{
  "nbformat": 4,
  "nbformat_minor": 0,
  "metadata": {
    "colab": {
      "name": "Github VQVAE.ipynb",
      "provenance": []
    },
    "kernelspec": {
      "name": "python3",
      "display_name": "Python 3"
    },
    "language_info": {
      "name": "python"
    },
    "accelerator": "GPU"
  },
  "cells": [
    {
      "cell_type": "markdown",
      "metadata": {
        "id": "LbjVhPc6LJr-"
      },
      "source": [
        "Install dependancies"
      ]
    },
    {
      "cell_type": "code",
      "metadata": {
        "colab": {
          "base_uri": "https://localhost:8080/",
          "height": 173
        },
        "id": "7CMJ4HMcLIr6",
        "outputId": "1538db82-0372-45ed-b15b-df21e043f5d9"
      },
      "source": [
        "!pip install argparse"
      ],
      "execution_count": 1,
      "outputs": [
        {
          "output_type": "stream",
          "name": "stdout",
          "text": [
            "Collecting argparse\n",
            "  Downloading argparse-1.4.0-py2.py3-none-any.whl (23 kB)\n",
            "Installing collected packages: argparse\n",
            "Successfully installed argparse-1.4.0\n"
          ]
        },
        {
          "output_type": "display_data",
          "data": {
            "application/vnd.colab-display-data+json": {
              "pip_warning": {
                "packages": [
                  "argparse"
                ]
              }
            }
          },
          "metadata": {}
        }
      ]
    },
    {
      "cell_type": "markdown",
      "metadata": {
        "id": "rMhKaMflLOEo"
      },
      "source": [
        "Clone"
      ]
    },
    {
      "cell_type": "code",
      "metadata": {
        "colab": {
          "base_uri": "https://localhost:8080/"
        },
        "id": "qmDoUzi9LYsf",
        "outputId": "f407b665-58e0-44f1-fc45-6327fc642b17"
      },
      "source": [
        "!git clone https://github.com/Mohanned-Elkholy/Vector-Quantized-Variational-AutoEncoder-VQ-VAE"
      ],
      "execution_count": 2,
      "outputs": [
        {
          "output_type": "stream",
          "name": "stdout",
          "text": [
            "Cloning into 'Vector-Quantized-Variational-AutoEncoder-VQ-VAE'...\n",
            "remote: Enumerating objects: 83, done.\u001b[K\n",
            "remote: Counting objects: 100% (83/83), done.\u001b[K\n",
            "remote: Compressing objects: 100% (72/72), done.\u001b[K\n",
            "remote: Total 83 (delta 10), reused 64 (delta 5), pack-reused 0\u001b[K\n",
            "Unpacking objects: 100% (83/83), done.\n"
          ]
        }
      ]
    },
    {
      "cell_type": "markdown",
      "metadata": {
        "id": "eNCnBpgILPgC"
      },
      "source": [
        "Change directory"
      ]
    },
    {
      "cell_type": "code",
      "metadata": {
        "colab": {
          "base_uri": "https://localhost:8080/"
        },
        "id": "HnP6Khw-LQ2B",
        "outputId": "6891c0b5-ec37-47d2-dc24-9017645839e2"
      },
      "source": [
        "%cd /content/Vector-Quantized-Variational-AutoEncoder-VQ-VAE"
      ],
      "execution_count": 3,
      "outputs": [
        {
          "output_type": "stream",
          "name": "stdout",
          "text": [
            "/content/Vector-Quantized-Variational-AutoEncoder-VQ-VAE\n"
          ]
        }
      ]
    },
    {
      "cell_type": "markdown",
      "metadata": {
        "id": "cBQDGm0bLRvn"
      },
      "source": [
        "Run script"
      ]
    },
    {
      "cell_type": "code",
      "metadata": {
        "colab": {
          "base_uri": "https://localhost:8080/"
        },
        "id": "ElVf3KEjLTHO",
        "outputId": "24c2bcdd-549c-4869-d5f2-a5291bc0b61a"
      },
      "source": [
        "!python main.py --num_embeddings 100 --embedding_dim 64 --commitment_cost 0.25"
      ],
      "execution_count": 4,
      "outputs": [
        {
          "output_type": "stream",
          "name": "stdout",
          "text": [
            "Downloading data from https://www.cs.toronto.edu/~kriz/cifar-10-python.tar.gz\n",
            "170500096/170498071 [==============================] - 102s 1us/step\n",
            "170508288/170498071 [==============================] - 102s 1us/step\n",
            "tcmalloc: large alloc 1228800000 bytes == 0x5625456aa000 @  0x7f15c46801e7 0x7f15c224046e 0x7f15c2290c7b 0x7f15c2290d18 0x7f15c234cd79 0x7f15c234fe4c 0x7f15c246ee7f 0x7f15c2474fb5 0x7f15c2476e3d 0x7f15c2478516 0x562531a23720 0x562531a232f9 0x7f15c23574d8 0x562531a05933 0x562531b0c496 0x562531a9384a 0x562531a23afa 0x562531a91915 0x562531a909ee 0x562531a906f3 0x562531b5a4c2 0x562531b5a83d 0x562531b5a6e6 0x562531b32163 0x562531b31e0c 0x7f15c346abf7 0x562531b31cea\n",
            "2021-10-04 16:43:18.199901: I tensorflow/stream_executor/cuda/cuda_gpu_executor.cc:937] successful NUMA node read from SysFS had negative value (-1), but there must be at least one NUMA node, so returning NUMA node zero\n",
            "2021-10-04 16:43:18.377924: I tensorflow/stream_executor/cuda/cuda_gpu_executor.cc:937] successful NUMA node read from SysFS had negative value (-1), but there must be at least one NUMA node, so returning NUMA node zero\n",
            "2021-10-04 16:43:18.378643: I tensorflow/stream_executor/cuda/cuda_gpu_executor.cc:937] successful NUMA node read from SysFS had negative value (-1), but there must be at least one NUMA node, so returning NUMA node zero\n",
            "2021-10-04 16:43:18.379516: I tensorflow/core/platform/cpu_feature_guard.cc:142] This TensorFlow binary is optimized with oneAPI Deep Neural Network Library (oneDNN) to use the following CPU instructions in performance-critical operations:  AVX512F\n",
            "To enable them in other operations, rebuild TensorFlow with the appropriate compiler flags.\n",
            "2021-10-04 16:43:18.379774: I tensorflow/stream_executor/cuda/cuda_gpu_executor.cc:937] successful NUMA node read from SysFS had negative value (-1), but there must be at least one NUMA node, so returning NUMA node zero\n",
            "2021-10-04 16:43:18.380396: I tensorflow/stream_executor/cuda/cuda_gpu_executor.cc:937] successful NUMA node read from SysFS had negative value (-1), but there must be at least one NUMA node, so returning NUMA node zero\n",
            "2021-10-04 16:43:18.380997: I tensorflow/stream_executor/cuda/cuda_gpu_executor.cc:937] successful NUMA node read from SysFS had negative value (-1), but there must be at least one NUMA node, so returning NUMA node zero\n",
            "2021-10-04 16:43:21.288664: I tensorflow/stream_executor/cuda/cuda_gpu_executor.cc:937] successful NUMA node read from SysFS had negative value (-1), but there must be at least one NUMA node, so returning NUMA node zero\n",
            "2021-10-04 16:43:21.289322: I tensorflow/stream_executor/cuda/cuda_gpu_executor.cc:937] successful NUMA node read from SysFS had negative value (-1), but there must be at least one NUMA node, so returning NUMA node zero\n",
            "2021-10-04 16:43:21.289929: I tensorflow/stream_executor/cuda/cuda_gpu_executor.cc:937] successful NUMA node read from SysFS had negative value (-1), but there must be at least one NUMA node, so returning NUMA node zero\n",
            "2021-10-04 16:43:21.290533: W tensorflow/core/common_runtime/gpu/gpu_bfc_allocator.cc:39] Overriding allow_growth setting because the TF_FORCE_GPU_ALLOW_GROWTH environment variable is set. Original config value was 0.\n",
            "2021-10-04 16:43:21.290591: I tensorflow/core/common_runtime/gpu/gpu_device.cc:1510] Created device /job:localhost/replica:0/task:0/device:GPU:0 with 15435 MB memory:  -> device: 0, name: Tesla P100-PCIE-16GB, pci bus id: 0000:00:04.0, compute capability: 6.0\n",
            "Model: \"model_3\"\n",
            "__________________________________________________________________________________________________\n",
            "Layer (type)                    Output Shape         Param #     Connected to                     \n",
            "==================================================================================================\n",
            "input_4 (InputLayer)            [(None, 32, 32, 3)]  0                                            \n",
            "__________________________________________________________________________________________________\n",
            "model (Functional)              (None, 24, 24, 1)    251777      input_4[0][0]                    \n",
            "__________________________________________________________________________________________________\n",
            "model_2 (Functional)            [(None, 24, 24, 64), 6528        model[0][0]                      \n",
            "__________________________________________________________________________________________________\n",
            "model_1 (Functional)            (None, 32, 32, 3)    319587      model_2[0][0]                    \n",
            "__________________________________________________________________________________________________\n",
            "tf.stop_gradient_1 (TFOpLambda) (None, 24, 24, 64)   0           model_2[0][1]                    \n",
            "__________________________________________________________________________________________________\n",
            "tf.stop_gradient_2 (TFOpLambda) (None, 24, 24, 64)   0           model_2[0][2]                    \n",
            "__________________________________________________________________________________________________\n",
            "tf.math.subtract_1 (TFOpLambda) (None, 24, 24, 64)   0           tf.stop_gradient_1[0][0]         \n",
            "                                                                 model_2[0][2]                    \n",
            "__________________________________________________________________________________________________\n",
            "tf.math.subtract_2 (TFOpLambda) (None, 24, 24, 64)   0           model_2[0][1]                    \n",
            "                                                                 tf.stop_gradient_2[0][0]         \n",
            "__________________________________________________________________________________________________\n",
            "tf.math.pow (TFOpLambda)        (None, 24, 24, 64)   0           tf.math.subtract_1[0][0]         \n",
            "__________________________________________________________________________________________________\n",
            "tf.math.pow_1 (TFOpLambda)      (None, 24, 24, 64)   0           tf.math.subtract_2[0][0]         \n",
            "__________________________________________________________________________________________________\n",
            "tf.math.reduce_mean (TFOpLambda ()                   0           tf.math.pow[0][0]                \n",
            "__________________________________________________________________________________________________\n",
            "tf.math.reduce_mean_1 (TFOpLamb ()                   0           tf.math.pow_1[0][0]              \n",
            "__________________________________________________________________________________________________\n",
            "tf.math.multiply (TFOpLambda)   ()                   0           tf.math.reduce_mean[0][0]        \n",
            "__________________________________________________________________________________________________\n",
            "tf.__operators__.add_1 (TFOpLam ()                   0           tf.math.reduce_mean_1[0][0]      \n",
            "                                                                 tf.math.multiply[0][0]           \n",
            "__________________________________________________________________________________________________\n",
            "add_loss (AddLoss)              ()                   0           tf.__operators__.add_1[0][0]     \n",
            "==================================================================================================\n",
            "Total params: 577,892\n",
            "Trainable params: 576,548\n",
            "Non-trainable params: 1,344\n",
            "__________________________________________________________________________________________________\n",
            "None\n",
            "Epoch number 0\n",
            "2021-10-04 16:43:23.927393: I tensorflow/compiler/mlir/mlir_graph_optimization_pass.cc:185] None of the MLIR Optimization Passes are enabled (registered 2)\n",
            "2021-10-04 16:43:26.466412: I tensorflow/stream_executor/cuda/cuda_dnn.cc:369] Loaded cuDNN version 8005\n",
            "372/372 [==============================] - 40s 58ms/step - loss: 0.2622 - val_loss: 0.2645\n",
            "Reconstructed\n",
            "Real\n",
            "Epoch number 1\n",
            "213/372 [================>.............] - ETA: 8s - loss: 0.1490Traceback (most recent call last):\n",
            "  File \"main.py\", line 50, in <module>\n",
            "    train(x_train,vqvae,1000,encoder,vq_model,decoder)\n",
            "  File \"/content/Vector-Quantized-Variational-AutoEncoder-VQ-VAE/src/helper_functions/utils.py\", line 176, in train\n",
            "    vqvae.fit(x_train,x_train,epochs=1,validation_split=0.05,batch_size=128,shuffle=True)\n",
            "  File \"/usr/local/lib/python3.7/dist-packages/keras/engine/training.py\", line 1184, in fit\n",
            "    tmp_logs = self.train_function(iterator)\n",
            "  File \"/usr/local/lib/python3.7/dist-packages/tensorflow/python/eager/def_function.py\", line 885, in __call__\n",
            "    result = self._call(*args, **kwds)\n",
            "  File \"/usr/local/lib/python3.7/dist-packages/tensorflow/python/eager/def_function.py\", line 917, in _call\n",
            "    return self._stateless_fn(*args, **kwds)  # pylint: disable=not-callable\n",
            "  File \"/usr/local/lib/python3.7/dist-packages/tensorflow/python/eager/function.py\", line 3040, in __call__\n",
            "    filtered_flat_args, captured_inputs=graph_function.captured_inputs)  # pylint: disable=protected-access\n",
            "  File \"/usr/local/lib/python3.7/dist-packages/tensorflow/python/eager/function.py\", line 1964, in _call_flat\n",
            "    ctx, args, cancellation_manager=cancellation_manager))\n",
            "  File \"/usr/local/lib/python3.7/dist-packages/tensorflow/python/eager/function.py\", line 596, in call\n",
            "    ctx=ctx)\n",
            "  File \"/usr/local/lib/python3.7/dist-packages/tensorflow/python/eager/execute.py\", line 60, in quick_execute\n",
            "    inputs, attrs, num_outputs)\n",
            "KeyboardInterrupt\n"
          ]
        }
      ]
    }
  ]
}